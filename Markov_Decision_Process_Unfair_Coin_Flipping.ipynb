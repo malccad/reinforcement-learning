{
  "nbformat": 4,
  "nbformat_minor": 0,
  "metadata": {
    "colab": {
      "provenance": []
    },
    "kernelspec": {
      "name": "python3",
      "display_name": "Python 3"
    },
    "language_info": {
      "name": "python"
    },
    "gpuClass": "standard"
  },
  "cells": [
    {
      "cell_type": "markdown",
      "source": [
        "# Description of the game\n",
        "\n",
        "Let us describe this game of flipping an unfair coin.\n",
        "Let $p_h$ be the probability of getting a head of flipping this coin.\n",
        "Assume that this quantity is known to the agent.\n",
        "For each round of the game, the agent can take the action of betting $a$ dollars, where $a$ is an integer, less than or equal to the capital $s$ that the agent has.\n",
        "The agent will gain $a$ dollars if the result of the coin toss is a head, else loses all the amount they bet.\n",
        "The goal of the agent is to get a capital of $n$ dollars, at which point the game ends.\n",
        "The game also ends if the agent loses all their capital."
      ],
      "metadata": {
        "id": "4tbrmgKVrBhQ"
      }
    },
    {
      "cell_type": "markdown",
      "source": [
        "# Problem setup\n",
        "\n",
        "1.   Compute the state-value function given a policy.\n",
        "2.   Find the optimal policy of the agent given a starting capital $>0$ and compute the probability of reaching their goal of getting $n$ dollars."
      ],
      "metadata": {
        "id": "a6oGu7R9D_Qx"
      }
    },
    {
      "cell_type": "markdown",
      "source": [
        "# Markov Decision Process\n",
        "\n",
        "This problem can be viewed via the lense of Markov Decision Process.\n",
        "\n",
        "## State, action and reward\n",
        "*   States - capital - $S=\\{0,1,2,\\cdots,n\\}$.\n",
        "*   Actions - bet size - $A_s= \\{1,\\cdots , min(s,n-s)\\}$.\n",
        "*   Rewards - $r\\in\\mathbb{R}^{n+1}$, with index set $\\{0,\\cdots,n\\}$, such that\n",
        "$$r_s=\n",
        "\\begin{cases}\n",
        "1 &\\text{if} &s=n;\\\\\n",
        "0 &\\text{otherwise.}\n",
        "\\end{cases}$$\n",
        "\n",
        "## Dynamics\n",
        "Clearly, the capital that the agent posesses after a coin flip only depends on the present capital and the bet size, but not the history of capital owed by the agent.\n",
        "Thus, this is a Markov process.\n",
        "\n",
        "Since $r(s=n)=1$, we'd better transit the state $s=n$ to another absorbing state with reward $=0$, in this case, this can be $s=0$.\n",
        "Let's deal with the special cases first:\n",
        "$$\n",
        "  p(0|0)=p(0|n)=1.\n",
        "$$\n",
        "For the transient states,\n",
        "$$\n",
        "  p(s'|s,a)=\n",
        "  \\begin{cases}\n",
        "  p_h &\\text{if} &s' = s+a;\\\\\n",
        "  1-p_h &\\text{elif} &s'= s-a;\\\\\n",
        "  0 &\\text{otherwise}.\n",
        "  \\end{cases}\n",
        "$$\n",
        "\n",
        "[comment]: <> (This is a comment, it will not be included)\n",
        "[comment]: <> (in  the output file unless you use it in)\n",
        "[comment]: <> (a reference style link.)\n",
        "\n",
        "[comment]: <> (The transition matrix $P$ is given by)\n",
        "[comment]: <> ($P_{s,s'}= p(s'|s,\\pi(s))$.)\n",
        "[comment]: <> ($$)\n",
        "[comment]: <> (  P_{0,*}=P_{100,*} =)  \n",
        "[comment]: <> (  \\begin{bmatrix})\n",
        "[comment]: <> (    1 & 0 & \\cdots & 0)  \n",
        "[comment]: <> (  \\end{bmatrix}.)\n",
        "[comment]: <> ($$)\n",
        "[comment]: <> (If $0 < s < 100$,)\n",
        "[comment]: <> ($$)\n",
        "[comment]: <> (P_{s,s'}=)\n",
        "[comment]: <> (\\begin{cases})\n",
        "[comment]: <> (1-p_h&\\text{if} &s'=s-\\pi(s)\\\\)\n",
        "[comment]: <> (p_h&\\text{elif} &s'=s+\\pi(s)\\\\)\n",
        "[comment]: <> (0&\\text{otherwise.})\n",
        "[comment]: <> (\\end{cases})\n",
        "[comment]: <> ($$)\n"
      ],
      "metadata": {
        "id": "9Wn2tCKNJ__P"
      }
    },
    {
      "cell_type": "markdown",
      "source": [
        "# Computing the state-value function"
      ],
      "metadata": {
        "id": "Nvv37uf98Vmo"
      }
    },
    {
      "cell_type": "markdown",
      "source": [
        "## State-value function\n",
        "\n",
        "Recall the definition of a policy.\n",
        "Let\n",
        "\n",
        "\n",
        "*   $S$ be the set of possible states;\n",
        "*   $A$ be the set of possible actions;\n",
        "*   $\\{A_s\\}_{s\\in S}$ be a family of subsets of $A$ - where $A_s$ is the set of possible actions available to the agent at state $s$.\n",
        "\n",
        "A policy is a map $\\pi: S→A$, where $\\pi(s)\\in A_s$ for all $s\\in S$.\n",
        "\n",
        "Recall the definition of the state-value function given a policy $\\pi$.\n",
        "Let\n",
        "\n",
        "*   $\\gamma\\in [0,1]$ be the discount factor that discounts future reward.\n",
        "*   $R_t$ be the reward gained at the $t$-th timestep\n",
        "*   $G_t:=\\sum_{i=0}^{\\infty} \\gamma^{i}R_{t+i}$ be **total** discounted reward gained after timestep $t$.\n",
        "\n",
        "Then the state-value function $$v^{\\pi}(s) := \\mathbb{E}_{\\pi}[G_t|S_t=s]$$ is defined as total expected reward over time given state $s$, where action at each timestep is taken according to the policy $\\pi$."
      ],
      "metadata": {
        "id": "cifXKlZILCce"
      }
    },
    {
      "cell_type": "markdown",
      "source": [
        "## State-value function (closed form)\n",
        "Note that $G_t = R_t + \\gamma G_{t+1}$.\n",
        "After taking expectation, we have the Bellman equation:\n",
        "$$\n",
        "v^{\\pi}(s) = r(s) + \\gamma \\sum_{s'\\in S}p(s'|s,\\pi(s))v^{\\pi}(s').\n",
        "$$\n",
        "Let $P^{\\pi}$ be the transition matrix under the policy $\\pi$, i.e.,\n",
        "$$P^{\\pi}_{s,s'} = p(s'|s, \\pi(s)).$$\n",
        "\n",
        "Then the Bellman equation takes the following matrix form,\n",
        "\\begin{align*}\n",
        "v^{\\pi}&= r + \\gamma P^{\\pi} v^{\\pi}.\\\\\n",
        "(I-\\gamma P^{\\pi})v^{\\pi}&=r.\n",
        "\\end{align*}\n",
        "To solve for $v^{\\pi}$, we want to invert the matrix $(I-\\gamma P^{\\pi})$.\n",
        "\n",
        "**The matrix $(I-\\gamma P^{\\pi})$ is invertible if and only if the discount factor $\\gamma < 1$**:\n",
        "\n",
        "(Proof) Since the total of transition probability from a state $s$ to all other states must be 1, sum of each row of $P^{\\pi}$ is $1$, i.e.,\n",
        "$$\n",
        "P^{\\pi}\n",
        "\\begin{bmatrix}\n",
        "1 \\\\\n",
        "1 \\\\\n",
        "\\vdots \\\\\n",
        "1\n",
        "\\end{bmatrix}\n",
        "=\n",
        "\\begin{bmatrix}\n",
        "1 \\\\\n",
        "1 \\\\\n",
        "\\vdots \\\\\n",
        "1.\n",
        "\\end{bmatrix}\n",
        "$$\n",
        "Thus, the vector\n",
        "$\\begin{bmatrix}\n",
        "1 \\\\\n",
        "1 \\\\\n",
        "\\vdots \\\\\n",
        "1\n",
        "\\end{bmatrix}$ lies in the kernel of $(I-P^{\\pi})$.\n",
        "\n",
        "Say $x$ is an eigenvector of $P^{\\pi}$ with eigenvalue $\\lambda=\\frac{1}{\\gamma} > 1$.\n",
        "Then each component of $P^{\\pi}x$ is a convex combination of components of $x$.\n",
        "Without loss of generality, assume $x_{max} > 0$ (consider $x_{min}$ otherwise).\n",
        "Then each component of $P^{\\pi}x$ is bounded above by $x_{max}$, but there is some component of $\\lambda x$ greater than $x_{max}$.\n",
        "(I learned this argument from this stackexchange [post](https://math.stackexchange.com/questions/40320/proof-that-the-largest-eigenvalue-of-a-stochastic-matrix-is-1)) $\\blacksquare$\n",
        "\n",
        "The above argument demostrates why it is often convenient to choose a discount factor $\\gamma < 1$.\n"
      ],
      "metadata": {
        "id": "SVWhGwKEoWS_"
      }
    },
    {
      "cell_type": "markdown",
      "source": [
        "## State-value function (closed form) implementation"
      ],
      "metadata": {
        "id": "-5ZBqaZ8nwIk"
      }
    },
    {
      "cell_type": "code",
      "source": [
        "import numpy as np\n",
        "import matplotlib.pyplot as plt\n",
        "import time"
      ],
      "metadata": {
        "id": "X2rrbXnmno5D"
      },
      "execution_count": 1,
      "outputs": []
    },
    {
      "cell_type": "code",
      "source": [
        "def state_value_closed(policy, r, head_prob, gamma):\n",
        "\n",
        "    # transition matrix under policy P^{\\pi}\n",
        "    P = [[0 for _ in range(len(policy))] for _ in range(len(policy))]\n",
        "    for s in range(1,len(policy)-1):\n",
        "        P[s][s-policy[s]]=(1-head_prob)\n",
        "        P[s][s+policy[s]]=head_prob\n",
        "    P[0][0]=1\n",
        "    P[-1][0]=1\n",
        "    P = np.asarray(P)\n",
        "\n",
        "    v = np.matmul(np.linalg.inv(np.identity(len(policy))-gamma*P),r)\n",
        "    return v"
      ],
      "metadata": {
        "id": "zztwJN-eYVLv"
      },
      "execution_count": 2,
      "outputs": []
    },
    {
      "cell_type": "code",
      "execution_count": 3,
      "metadata": {
        "id": "KRTRd96DiP9s"
      },
      "outputs": [],
      "source": [
        "n = 100\n",
        "policy = [1]*(n+1)\n",
        "r = [1 if i==n else 0 for i in range(n+1)]\n",
        "head_prob = 0.4\n",
        "gamma = 0.99"
      ]
    },
    {
      "cell_type": "code",
      "source": [
        "v = state_value_closed(policy, r, head_prob, gamma)"
      ],
      "metadata": {
        "id": "fac8Y_CsrRW4"
      },
      "execution_count": 4,
      "outputs": []
    },
    {
      "cell_type": "code",
      "source": [
        "plt.title(f\"Minimum bet, head probability={head_prob}\")\n",
        "plt.xlabel('States (capital in dollars)')\n",
        "plt.ylabel(f'Probability of reaching {n} dollars')\n",
        "plt.plot(v)\n",
        "plt.show()"
      ],
      "metadata": {
        "colab": {
          "base_uri": "https://localhost:8080/",
          "height": 295
        },
        "id": "u0G4pqm2rBaY",
        "outputId": "f8294ff4-2c10-4da7-e425-10d4b17dedc8"
      },
      "execution_count": 5,
      "outputs": [
        {
          "output_type": "display_data",
          "data": {
            "text/plain": [
              "<Figure size 432x288 with 1 Axes>"
            ],
            "image/png": "[encoded data removed]"
          },
          "metadata": {
            "needs_background": "light"
          }
        }
      ]
    },
    {
      "cell_type": "markdown",
      "source": [
        "Inverting the matrix seems a bad idea due to numerical instability - the first few terms of the computed state-value function are negative."
      ],
      "metadata": {
        "id": "eKT5bzhaGejp"
      }
    },
    {
      "cell_type": "code",
      "source": [
        "v"
      ],
      "metadata": {
        "colab": {
          "base_uri": "https://localhost:8080/"
        },
        "id": "3UcHcz5YGdko",
        "outputId": "6295de1c-3c34-4bc9-9200-b0f5fe967bd6"
      },
      "execution_count": 6,
      "outputs": [
        {
          "output_type": "execute_result",
          "data": {
            "text/plain": [
              "array([-1.12143740e-16, -1.56204396e-16, -1.14096195e-16, -8.01688903e-17,\n",
              "       -1.04334048e-16, -1.03876868e-16, -9.87774823e-17, -8.82054324e-17,\n",
              "       -1.13009568e-16, -1.08624131e-16, -1.01181012e-16, -8.91605868e-17,\n",
              "       -1.02624859e-16, -9.11527982e-17, -7.30710167e-17, -4.46447102e-17,\n",
              "       -2.25174185e-17, -3.03068438e-19,  3.45691859e-17,  8.93070808e-17,\n",
              "        1.56470167e-16,  2.80643215e-16,  4.75544088e-16,  7.81458187e-16,\n",
              "        1.25932027e-15,  2.01166322e-15,  3.19253104e-15,  5.04600599e-15,\n",
              "        7.95437255e-15,  1.25201316e-14,  1.96864888e-14,  3.09347119e-14,\n",
              "        4.85661098e-14,  7.62462755e-14,  1.19692712e-13,  1.87885687e-13,\n",
              "        2.94908774e-13,  4.62902592e-13,  7.26583556e-13,  1.14045385e-12,\n",
              "        1.79004738e-12,  2.80965317e-12,  4.41001346e-12,  6.92191865e-12,\n",
              "        1.08645651e-11,  1.70529009e-11,  2.67660343e-11,  4.20116363e-11,\n",
              "        6.59409397e-11,  1.03500070e-10,  1.62452405e-10,  2.54983240e-10,\n",
              "        4.00218464e-10,  6.28177828e-10,  9.85979951e-10,  1.54758162e-09,\n",
              "        2.42906446e-09,  3.81262874e-09,  5.98425366e-09,  9.39280855e-09,\n",
              "        1.47428330e-08,  2.31401635e-08,  3.63205068e-08,  5.70082062e-08,\n",
              "        8.94793566e-08,  1.40445662e-07,  2.20441727e-07,  3.46002536e-07,\n",
              "        5.43081186e-07,  8.52413333e-07,  1.33793714e-06,  2.10000915e-06,\n",
              "        3.29614769e-06,  5.17359156e-06,  8.12040361e-06,  1.27456824e-05,\n",
              "        2.00054612e-05,  3.14003179e-05,  4.92855402e-05,  7.73579580e-05,\n",
              "        1.21420069e-04,  1.90579398e-04,  2.99131002e-04,  4.69512223e-04,\n",
              "        7.36940422e-04,  1.15669233e-03,  1.81552959e-03,  2.84963219e-03,\n",
              "        4.47274650e-03,  7.02036610e-03,  1.10190775e-02,  1.72954041e-02,\n",
              "        2.71466466e-02,  4.26090318e-02,  6.68785952e-02,  1.04971794e-01,\n",
              "        1.64762394e-01,  2.58608962e-01,  4.05909343e-01,  6.37110150e-01,\n",
              "        1.00000000e+00])"
            ]
          },
          "metadata": {},
          "execution_count": 6
        }
      ]
    },
    {
      "cell_type": "markdown",
      "source": [
        "## Iterative policy evaluation\n",
        "\n",
        "If we let\n",
        "$$v^{\\pi}_{k}(s) = \\mathbb{E}_{\\pi}[\\sum^{k-1}_{i=0}\\gamma^i r_{t+i}|S_t=s],$$\n",
        "then clearly $v^{\\pi}_{k}→ v^{\\pi}$ as $k→\\infty$.\n",
        "\n",
        "\n",
        "\n",
        "Moreover, the Bellman equation takes the form:\n",
        "$$v^{\\pi}_{k}(s) = r(s) + \\gamma \\sum_{s'\\in S}p(s'|s,\\pi(s))v^{\\pi}_{k-1}(s'),$$\n",
        "which gives an iterative way of computing the sequence $\\{v^{\\pi}_{k}\\}_{k\\geq 1}$.\n",
        "It was suggested that we terminate the computation if $||v^{\\pi}_{k}-v^{\\pi}_{k-1}||_{\\infty}$ is small."
      ],
      "metadata": {
        "id": "GaE0XqDRutqZ"
      }
    },
    {
      "cell_type": "code",
      "source": [
        "def policy_eval(policy, head_prob, r, gamma, threshold, print_iter=False):\n",
        "    # initialize v\n",
        "    v = np.zeros(len(policy))\n",
        "    # transition matrix P under policy\n",
        "    P = [[0 for _ in range(len(policy))] for _ in range(len(policy))]\n",
        "    for s in range(1,len(policy)-1):\n",
        "        P[s][s-policy[s]]=(1-head_prob)\n",
        "        P[s][s+policy[s]]=head_prob\n",
        "    P[0][0]=1\n",
        "    P[-1][0]=1\n",
        "    P = np.asarray(P)\n",
        "    n_iter = 0\n",
        "    while True:\n",
        "        new_v = r + gamma*np.matmul(P,v)\n",
        "        n_iter += 1\n",
        "        if max(new_v-v)<threshold:\n",
        "            if print_iter:\n",
        "                print(f\"Number of iterations: {n_iter}\")\n",
        "            return new_v\n",
        "        v = new_v"
      ],
      "metadata": {
        "id": "7uxwUR1vIAe7"
      },
      "execution_count": 12,
      "outputs": []
    },
    {
      "cell_type": "code",
      "source": [
        "n = 100\n",
        "policy = [1]*(n+1)\n",
        "r = [1 if i==n else 0 for i in range(n+1)]\n",
        "head_prob = 0.4\n",
        "gamma = 0.99\n",
        "threshold = 1e-10\n",
        "v = policy_eval(policy, head_prob, r, gamma, threshold)"
      ],
      "metadata": {
        "id": "91WCihuOyW94"
      },
      "execution_count": 17,
      "outputs": []
    },
    {
      "cell_type": "markdown",
      "source": [
        "No negative terms in the beginning. We shall be using the iterative policy evaluation."
      ],
      "metadata": {
        "id": "t2JEYQY-6ave"
      }
    },
    {
      "cell_type": "code",
      "source": [
        "v"
      ],
      "metadata": {
        "colab": {
          "base_uri": "https://localhost:8080/"
        },
        "id": "sknoWg7aJYoD",
        "outputId": "b2d0dbde-5d71-450c-9903-25a9ce96c8d6"
      },
      "execution_count": 14,
      "outputs": [
        {
          "output_type": "execute_result",
          "data": {
            "text/plain": [
              "array([0.00000000e+00, 1.34431528e-20, 3.39473555e-20, 6.61252859e-20,\n",
              "       1.16062012e-19, 1.95713258e-19, 3.20132381e-19, 5.19406546e-19,\n",
              "       8.31434119e-19, 1.33100923e-18, 2.11398323e-18, 3.36526124e-18,\n",
              "       5.32715961e-18, 8.45554176e-18, 1.33616388e-17, 2.11676413e-17,\n",
              "       3.34111816e-17, 5.28523044e-17, 8.33486427e-17, 1.31685044e-16,\n",
              "       2.07515026e-16, 3.27512660e-16, 5.15779634e-16, 8.13288665e-16,\n",
              "       1.28008980e-15, 2.01686550e-15, 3.17295998e-15, 4.99580658e-15,\n",
              "       7.85623321e-15, 1.23624247e-14, 1.94338943e-14, 3.05658560e-14,\n",
              "       4.80356636e-14, 7.55201226e-14, 1.18653885e-13, 1.86480527e-13,\n",
              "       2.92929594e-13, 4.60250048e-13, 7.22853204e-13, 1.13548770e-12,\n",
              "       1.78311338e-12, 2.80047842e-12, 4.39724513e-12, 6.90511618e-12,\n",
              "       1.08412944e-11, 1.70224403e-11, 2.67240188e-11, 4.19569324e-11,\n",
              "       6.58658212e-11, 1.03402768e-10, 1.62319370e-10, 2.54811809e-10,\n",
              "       3.99985109e-10, 6.27878690e-10, 9.85574584e-10, 1.54706472e-09,\n",
              "       2.42836721e-09, 3.81174441e-09, 5.98306637e-09, 9.39131089e-09,\n",
              "       1.47408320e-08, 2.31376533e-08, 3.63171695e-08, 5.70040434e-08,\n",
              "       8.94738504e-08, 1.40438833e-07, 2.20432743e-07, 3.45991461e-07,\n",
              "       5.43066695e-07, 8.52395579e-07, 1.33791405e-06, 2.09998103e-06,\n",
              "       3.29611134e-06, 5.17354760e-06, 8.12034714e-06, 1.27456146e-05,\n",
              "       2.00053747e-05, 3.14002148e-05, 4.92854097e-05, 7.73578038e-05,\n",
              "       1.21419875e-04, 1.90579171e-04, 2.99130720e-04, 4.69511895e-04,\n",
              "       7.36940019e-04, 1.15669187e-03, 1.81552903e-03, 2.84963155e-03,\n",
              "       4.47274573e-03, 7.02036525e-03, 1.10190765e-02, 1.72954030e-02,\n",
              "       2.71466454e-02, 4.26090305e-02, 6.68785938e-02, 1.04971792e-01,\n",
              "       1.64762393e-01, 2.58608961e-01, 4.05909341e-01, 6.37110149e-01,\n",
              "       1.00000000e+00])"
            ]
          },
          "metadata": {},
          "execution_count": 14
        }
      ]
    },
    {
      "cell_type": "markdown",
      "source": [
        "### (Aside) Error analysis\n",
        "More precisely,\n",
        "$$\n",
        "||v^{\\pi}_{k} - v^{\\pi}||_{\\infty}\\leq \\frac{\\gamma^{k}}{1-\\gamma}||r||_{\\infty}.\n",
        "$$\n",
        "Say we want to bound the error by $\\epsilon$.\n",
        "Then solving $\\frac{\\gamma^{k}}{1-\\gamma}||r||_{\\infty}\\leq \\epsilon$, we get\n",
        "$k\\geq \\frac{\\log(\\epsilon (1-\\gamma))-\\log(||r||_{\\infty})}{\n",
        "  \\log\\gamma}$.\n",
        "The number of iterations $k$, is quite sensitive to $1-\\gamma$:\n",
        "letting $N=\\frac{1}{1-\\gamma}$, then $\\frac{\\log(1-\\gamma)}{\\log \\gamma}\\sim N\\log N$. Thus, we want to be careful with the discount factor if we want to get an accurate approximation of the state-value function."
      ],
      "metadata": {
        "id": "Iqs4mnNH9JdA"
      }
    },
    {
      "cell_type": "markdown",
      "source": [
        "# Optimal policy search\n",
        "\n",
        "We will cover two policy search algorithms here."
      ],
      "metadata": {
        "id": "iPhrSjsjjl8V"
      }
    },
    {
      "cell_type": "markdown",
      "source": [
        "## Policy iteration\n",
        "\n",
        "Define a policy $\\pi_*$ to be *optimal* if the corresponding state-value function $v^{\\pi_*}$ is optimal, i.e.\n",
        "for any policy $\\pi$, not all components of $v^{\\pi}$ are greater than $v^{\\pi_*}$.\n",
        "While there may be more than one optimal policy, an optimal state-value function is unique. For a proof, see the section below on Value Iteration.\n",
        "\n",
        "Recall the definition of an action-value function $q^{\\pi}(s,a)$ under a given policy $\\pi$.\n",
        "It is the total expected reward, where the agent will take the action $a\\in A_s$ in the current timestep and will follow the policy $\\pi$ afterwards:\n",
        "$$q^{\\pi}(s,a):=\\mathbb{E}_{\\pi}[G_t|S_t=s, A_t = a].$$\n",
        "\n",
        "If we let the *policy improvement* $\\pi'(s):=\\arg \\max_{a\\in A_s}q^{\\pi}(s,a)$.\n",
        "Then $q^{\\pi}(s, \\pi')\\geq v^{\\pi}(s)$.\n",
        "In fact, iteratively plugging in the above inequality into the right hand side of the following Bellman equation for $q^{\\pi}$:\n",
        "$$q^{\\pi}(s, \\pi'(s))=r(s)+\\sum_{s'}p(s'|s, \\pi'(s))v^{\\pi}(s'),$$\n",
        "one can show that\n",
        "$$v^{\\pi}(s)\\leq q^{\\pi}(s,\\pi'(s))\\leq v^{\\pi'}(s).$$\n",
        "If $\\pi = \\pi'$, then the above inequalities are equalities.\n",
        "We then have\n",
        "$$\n",
        "v^{\\pi}(s) = \\max_{a\\in A_s} \\big(r(s)+\\sum_{s'}p(s'|s, a)v^{\\pi}(s')\\big),\n",
        "$$\n",
        "which means $v^{\\pi}$ is optimal (c.f. the section \"Uniqueness of optimal state-value function\").\n",
        "This suggests the following policy iteration algorithm:\n",
        "\n",
        "```\n",
        "Initialize policy\n",
        "\n",
        "while True:\n",
        "    v ← policy_eval(policy)\n",
        "    old_policy ← policy\n",
        "    policy[s] ← arg max_a q^{old_policy}(s,a)\n",
        "    if policy == old_policy:\n",
        "        return policy, v\n",
        "```\n",
        "\n",
        "Since there are only finitely many policies, this iterative process must terminate."
      ],
      "metadata": {
        "id": "VQPkO8oi4mEW"
      }
    },
    {
      "cell_type": "markdown",
      "source": [
        "## Policy iteration implementation"
      ],
      "metadata": {
        "id": "lhNDzkUPJRHY"
      }
    },
    {
      "cell_type": "code",
      "source": [
        "def policy_init(n):\n",
        "    \"\"\"\n",
        "    Randomly initialize policy\n",
        "    \"\"\"\n",
        "    lo = [1]*(n+1)\n",
        "    hi = [min(i,n-i)+1 for i in range(n+1)]\n",
        "    hi[0] = hi[-1] = 2\n",
        "    policy_float = np.random.uniform(lo, hi)\n",
        "    policy = policy_float.astype(int)\n",
        "    return policy"
      ],
      "metadata": {
        "id": "Ko_JSV3YJVq7"
      },
      "execution_count": 7,
      "outputs": []
    },
    {
      "cell_type": "code",
      "source": [
        "def get_dynamics(n, head_prob):\n",
        "    \"\"\"\n",
        "    Get a 3-d tensor P_{a,s,s'} = p(s'|s,a)\n",
        "    \"\"\"\n",
        "    P = [[[0 for s1 in range(n+1)] for s in range(n+1)] for a in range(n//2)]\n",
        "    for s in range(1,n):\n",
        "        for a in range(min(s, n-s)):\n",
        "            P[a][s][s-(a+1)] = (1-head_prob)\n",
        "            P[a][s][s+a+1] = head_prob\n",
        "    P[0][0][0]=1\n",
        "    P[0][-1][0]=1\n",
        "    P = np.asarray(P)\n",
        "    return P"
      ],
      "metadata": {
        "id": "zPgFlOZs254K"
      },
      "execution_count": 8,
      "outputs": []
    },
    {
      "cell_type": "code",
      "source": [
        "def get_policy_dynamics(policy, head_prob):\n",
        "    \"\"\"\n",
        "    Get a transition matrix P with P_{s,s'} = p(s'|s, policy[s])\n",
        "    \"\"\"\n",
        "    P = [[0 for _ in range(len(policy))] for _ in range(len(policy))]\n",
        "    for s in range(1,len(policy)-1):\n",
        "        P[s][s-policy[s]]=(1-head_prob)\n",
        "        P[s][s+policy[s]]=head_prob\n",
        "    P[0][0]=1\n",
        "    P[-1][0]=1"
      ],
      "metadata": {
        "id": "5ZZObvGizZET"
      },
      "execution_count": 6,
      "outputs": []
    },
    {
      "cell_type": "code",
      "source": [
        "def policy_improve(P, v, r):\n",
        "    q = np.matmul(P, v)+r\n",
        "    return np.argmax(q, axis =0)+1"
      ],
      "metadata": {
        "id": "NEQLXHXy53Qc"
      },
      "execution_count": 9,
      "outputs": []
    },
    {
      "cell_type": "code",
      "source": [
        " def policy_iteration(head_prob, r, gamma, threshold, print_iter=False):\n",
        "    \n",
        "    n = len(r) - 1\n",
        "    policy = policy_init(n)\n",
        "    # 3d-tensor P_{a,s,s'} = p(s'|s,a)\n",
        "    P = get_dynamics(n, head_prob)\n",
        "    n_iter = 0\n",
        "    v_history = []\n",
        "    while True:\n",
        "        v = policy_eval(policy, head_prob, r, gamma, threshold)\n",
        "        v_history.append(v)\n",
        "        new_policy = policy_improve(P, v, r)\n",
        "        n_iter += 1\n",
        "        if np.array_equal(new_policy, policy):\n",
        "            v_history = np.asarray(v_history)\n",
        "            if print_iter:\n",
        "                print(f\"Number of iterations: {n_iter}\")\n",
        "            return policy, v_history\n",
        "        policy = new_policy"
      ],
      "metadata": {
        "id": "pFbf7zl8kKa_"
      },
      "execution_count": 48,
      "outputs": []
    },
    {
      "cell_type": "code",
      "source": [
        "n = 200 #@param {type:\"slider\", min:1, max:500, step:1}\n",
        "head_prob = 0.4 #@param {type:\"slider\", min:0, max:1, step:0.01}\n",
        "gamma = 0.99 #@param {type:\"number\"}\n",
        "threshold = 1e-10 #@param {type:\"number\"}\n",
        "r = np.zeros(n+1)\n",
        "r[-1] = 1"
      ],
      "metadata": {
        "id": "rNt8TpBrBOYT"
      },
      "execution_count": 96,
      "outputs": []
    },
    {
      "cell_type": "code",
      "source": [
        "start_time = time.time()\n",
        "policy_p, v_history_p = policy_iteration(head_prob, r, gamma, threshold, print_iter=True)\n",
        "print(\"--- %s seconds ---\" % (time.time() - start_time))"
      ],
      "metadata": {
        "colab": {
          "base_uri": "https://localhost:8080/"
        },
        "id": "wzOV84n87r6F",
        "outputId": "b63d5e31-6da6-4640-f94b-26e05a0869f2"
      },
      "execution_count": 100,
      "outputs": [
        {
          "output_type": "stream",
          "name": "stdout",
          "text": [
            "Number of iterations: 8\n",
            "--- 1.7619318962097168 seconds ---\n"
          ]
        }
      ]
    },
    {
      "cell_type": "code",
      "source": [
        "plt.title(\"An optimal policy\")\n",
        "plt.ylabel('Bet size')\n",
        "plt.xlabel('States (capital in dollars)')\n",
        "plt.plot(policy, 'b.')\n",
        "plt.show()"
      ],
      "metadata": {
        "colab": {
          "base_uri": "https://localhost:8080/",
          "height": 295
        },
        "id": "EAa0F4SzHK0P",
        "outputId": "c3d5ac93-fb8b-419b-ffff-6c00bc9c24bb"
      },
      "execution_count": 101,
      "outputs": [
        {
          "output_type": "display_data",
          "data": {
            "text/plain": [
              "<Figure size 432x288 with 1 Axes>"
            ],
            "image/png": "[encoded data removed]"
          },
          "metadata": {
            "needs_background": "light"
          }
        }
      ]
    },
    {
      "cell_type": "markdown",
      "source": [
        "The state-value function converges to the optimal one fairly quickly."
      ],
      "metadata": {
        "id": "paxlVQLbLuBm"
      }
    },
    {
      "cell_type": "code",
      "source": [
        "plt.title('Policy iterations')\n",
        "plt.xlabel('State (capital in dollars)')\n",
        "plt.ylabel('Probability of reaching n')\n",
        "plt.plot(v_history_p[0], label=f\"{0}-th iteration\")\n",
        "plt.plot(v_history_p[1], label=f\"{1}-st iteration\")\n",
        "plt.plot(v_history_p[-1], label=\"final iteration\")\n",
        "plt.legend()\n",
        "plt.show()"
      ],
      "metadata": {
        "colab": {
          "base_uri": "https://localhost:8080/",
          "height": 295
        },
        "id": "FIQ3VgKaIxgy",
        "outputId": "32342a6e-0f72-42dc-9608-681fd5df96f5"
      },
      "execution_count": 102,
      "outputs": [
        {
          "output_type": "display_data",
          "data": {
            "text/plain": [
              "<Figure size 432x288 with 1 Axes>"
            ],
            "image/png": "[encoded data removed]"
          },
          "metadata": {
            "needs_background": "light"
          }
        }
      ]
    },
    {
      "cell_type": "markdown",
      "source": [
        "## Uniqueness of optimal state-value function\n",
        "\n",
        "In this section, we shall prove the uniqueness of the optimal state-value function and is given by the unique fixed point of the Bellman operator.\n",
        "\n",
        "### Bellman operator\n",
        "\n",
        "The state-value function of the optimal policy satisfies the following equation (in $v$)\n",
        "$$\n",
        "v(s) = \\max_{a\\in A(s)}\\big(r(s) + \\gamma\\sum_{s'}p(s'|s,a)\\cdot v(s')\\big),\n",
        "$$\n",
        "which determines the policy by setting\n",
        "$$\n",
        "\\pi(s) := \\arg \\max_{a\\in A(s)}\\big(r(s) + \\gamma\\sum_{s'}p(s'|s,a)\\cdot v(s')\\big).\n",
        "$$\n",
        "\n",
        "This suggests we can cast the problem of computing the state-value function as a math problem: finding the fix point of the *Bellman operator*\n",
        "\\begin{align}\n",
        "B: \\mathbb{R}^{|S|}&→\\mathbb{R}^{|S|}\\\\\n",
        "v&\\mapsto \\big(\\max_{a\\in A(s)}(r(s) + \\gamma\\sum_{s'}p(s'|s,a)\\cdot v(s'))\\big)_{s\\in S}.\\\\\n",
        "\\end{align}\n",
        "We shall show in the next section that $B$ admits a unique fixed point.\n",
        "Since the state-value function of an optimal policy gives rise to a fixed point of $B$, the state-value function of an optimal policy is unique.\n",
        "\n",
        "### Existence and Uniqueness of the fixed point\n",
        "\n",
        "The state-value function $v^{\\pi}(s)$ of an optimal policy $\\pi$ is clearly a fixed point of $B$. This proves existence.\n",
        "\n",
        "We claim that\n",
        "\\begin{equation}\n",
        "||B(v)-B(v')||_{\\infty}\\leq \\gamma ||v-v'||_{\\infty}\n",
        "\\end{equation}\n",
        "for any $v, v'\\in \\mathbb{R}^{|S|}$.\n",
        "\n",
        "Indeed,\n",
        "\\begin{align*}\n",
        "||B(v)-B(v')||_{\\infty} &= \\max_s |\\max_{a\\in A(s)}\\big(r(s) + \\gamma\\sum_{s'}p(s'|s,a)\\cdot v(s')\\big)-\\max_{a\\in A(s)}\\big(r(s) + \\gamma\\sum_{s'}p(s'|s,a)\\cdot v'(s')\\big)|\\\\\n",
        "&\\leq \\max_s |\\max_{a\\in A(s)}\\gamma\\sum_{s'}p(s'|s,a)\\cdot (v(s')-v'(s'))|\\\\\n",
        "&\\leq \\max_s \\max_{a\\in A(s)}\\gamma\\sum_{s'}p(s'|s,a)\\cdot ||v-v'||_{\\infty}\\\\\n",
        "&\\leq \\gamma ||v-v'||_{\\infty}\\\\\n",
        "\\end{align*}\n",
        "\n",
        "Now let $v_1, v_2\\in \\mathbb{R}^{|S|}$ be two fixed points of $B$.\n",
        "Then\n",
        "$$\n",
        "||B(v_1)- B(v_2)||_{\\infty}\n",
        "\\leq\n",
        "\\gamma||v_1- v_2||_{\\infty}.\n",
        "$$\n",
        "But $v_1, v_2$ are fixed points of $B$ by hypothesis,\n",
        "$||B(v_1)- B(v_2)||_{\\infty}= ||v_1- v_2||_{\\infty}$.\n",
        "This forces $v_1=v_2$. $\\blacksquare$\n",
        "\n"
      ],
      "metadata": {
        "id": "SGZ7dZkIchNj"
      }
    },
    {
      "cell_type": "markdown",
      "source": [
        "## Value iteration\n",
        "\n",
        "Let $v_0$ be the fixed point of the Bellman operator $B$.\n",
        "We claim that for any point $v\\in \\mathbb{R}^{|S|}$,\n",
        "the sequence $\\{B^{k}(v)\\}_{k\\geq 1}$ converges to $v_0$.\n",
        "Indeed,\n",
        "$$||B^{k}(v) - v_0||_{\\infty}=||B^{k}(v) - B^{k}(v_0)||_{\\infty}\\leq \\gamma^{k}||v-v_0||_{\\infty},$$\n",
        "where the last term goes to zero as $k\\rightarrow \\infty$.\n",
        "\n",
        "The value iteration algorithm is nothing but repeatedly applying $B$ until convergence."
      ],
      "metadata": {
        "id": "uYsrxhB9gqdp"
      }
    },
    {
      "cell_type": "markdown",
      "source": [
        "## Value iteration implementation"
      ],
      "metadata": {
        "id": "zuSPtvN9PjTB"
      }
    },
    {
      "cell_type": "code",
      "source": [
        "def value_iter(head_prob, r, gamma, threshold, print_iter=False):\n",
        "    v = np.zeros(len(r))\n",
        "    P = get_dynamics(len(r)-1, head_prob)\n",
        "    v_history = [v]\n",
        "    n_iter = 0\n",
        "    while True:\n",
        "        new_v = np.max(gamma*np.matmul(P,v) + r, axis=0)\n",
        "        v_history.append(new_v)\n",
        "        n_iter += 1\n",
        "        if np.max(np.abs(new_v - v)) < threshold:\n",
        "            if print_iter:\n",
        "                print(f\"Number of iterations: {n_iter}\")\n",
        "            policy = np.argmax(gamma*np.matmul(P,v) + r, axis=0) + 1\n",
        "            v_history = np.asarray(v_history)\n",
        "            return policy, v_history\n",
        "        v = new_v"
      ],
      "metadata": {
        "id": "FOylkpHUcc8P"
      },
      "execution_count": 79,
      "outputs": []
    },
    {
      "cell_type": "code",
      "source": [
        "n = 400 #@param {type:\"slider\", min:1, max:500, step:1}\n",
        "head_prob = 0.4 #@param {type:\"slider\", min:0, max:1, step:0.01}\n",
        "gamma = 0.99 #@param {type:\"number\"}\n",
        "threshold = 1e-10 #@param {type:\"number\"}\n",
        "r = np.zeros(n+1)\n",
        "r[-1] = 1"
      ],
      "metadata": {
        "id": "V2K3PH14JuqT"
      },
      "execution_count": 74,
      "outputs": []
    },
    {
      "cell_type": "code",
      "source": [
        "start_time = time.time()\n",
        "policy_v, v_history_v = value_iter(head_prob, r, gamma, threshold, print_iter=True)\n",
        "print(\"--- %s seconds ---\" % (time.time() - start_time))"
      ],
      "metadata": {
        "colab": {
          "base_uri": "https://localhost:8080/"
        },
        "id": "pqkWDSj2JnT1",
        "outputId": "4b169eab-4ea5-45c9-85d3-06c249494279"
      },
      "execution_count": 110,
      "outputs": [
        {
          "output_type": "stream",
          "name": "stdout",
          "text": [
            "Number of iterations: 35\n",
            "--- 0.7768881320953369 seconds ---\n"
          ]
        }
      ]
    },
    {
      "cell_type": "code",
      "source": [
        "plt.title(\"An optimal policy\")\n",
        "plt.ylabel('Bet size')\n",
        "plt.xlabel('States (capital in dollars')\n",
        "plt.plot(policy_v, 'b.')\n",
        "plt.show()"
      ],
      "metadata": {
        "colab": {
          "base_uri": "https://localhost:8080/",
          "height": 295
        },
        "id": "j-GMlWQyTrkZ",
        "outputId": "15b4e1cc-817d-4fae-db7c-114bb332a78e"
      },
      "execution_count": 113,
      "outputs": [
        {
          "output_type": "display_data",
          "data": {
            "text/plain": [
              "<Figure size 432x288 with 1 Axes>"
            ],
            "image/png": "[encoded data removed]"
          },
          "metadata": {
            "needs_background": "light"
          }
        }
      ]
    },
    {
      "cell_type": "code",
      "source": [
        "plt.title('Value iterations')\n",
        "plt.xlabel('State (capital in dollars)')\n",
        "plt.ylabel('Probability of reaching n')\n",
        "plt.plot(v_history_v[len(v_history_v)//8], label=f\"{len(v_history_v)//8}-th iteration\")\n",
        "plt.plot(v_history_v[len(v_history_v)//6], label=f\"{len(v_history_v)//6}-th iteration\")\n",
        "plt.plot(v_history_v[-1], label=\"final\")\n",
        "plt.legend()\n",
        "plt.show()"
      ],
      "metadata": {
        "colab": {
          "base_uri": "https://localhost:8080/",
          "height": 295
        },
        "id": "7gkBmH5fSo2q",
        "outputId": "f0614d97-da70-496d-c235-0799529c51a9"
      },
      "execution_count": 114,
      "outputs": [
        {
          "output_type": "display_data",
          "data": {
            "text/plain": [
              "<Figure size 432x288 with 1 Axes>"
            ],
            "image/png": "[encoded data removed]"
          },
          "metadata": {
            "needs_background": "light"
          }
        }
      ]
    },
    {
      "cell_type": "markdown",
      "source": [
        "## Conclusions"
      ],
      "metadata": {
        "id": "f5Kh5xNvRNqs"
      }
    },
    {
      "cell_type": "markdown",
      "source": [
        "### Time complexity and potential pitfall\n",
        "\n",
        "The policy evaluation step in the policy iteration is computationally expensive - itself requiring hundreds of iterations to compute the state-value function. On the other hand, we see empirically that the value iteration algorithm requires more iterations, while each iteration is a lot cheaper than the policy iteration algorithm. The policy iteration algorithm is perhaps not very robust.\n",
        "When there are more than one optimal policies, the algorithm may oscillate among the optimal policies, causing the algorithm to not terminate. An obvious way to fix this is to cache all policies that were considered and terminate once a policy is revisited."
      ],
      "metadata": {
        "id": "r4AZFCSvW1G1"
      }
    },
    {
      "cell_type": "markdown",
      "source": [
        "### More than one optimal policies\n",
        "\n",
        "If one has to guess what the optimal policy is, given that the probability of head is $< 0.5$, a reasonable guess would be to take the maximum bet size allowed. The intuition here is that the expected value of the capital deteriorates over time. Let us compute the state-value function of this policy and compare it with the results of the policy iteration and value iteration. "
      ],
      "metadata": {
        "id": "YCIVWLyEYUQT"
      }
    },
    {
      "cell_type": "code",
      "source": [
        "test_policy = [1 for _ in range(n+1)]\n",
        "for i in range(1, n//2 +1):\n",
        "    test_policy[i] = i\n",
        "for i in range(n//2 +1, n):\n",
        "    test_policy[i] = n - i"
      ],
      "metadata": {
        "id": "WJDNQwv4WQpT"
      },
      "execution_count": 103,
      "outputs": []
    },
    {
      "cell_type": "code",
      "source": [
        "plt.title('Test policy')\n",
        "plt.xlabel('States (capital in dollars)')\n",
        "plt.ylabel('Bet size')\n",
        "plt.plot(test_policy)\n",
        "plt.show()"
      ],
      "metadata": {
        "colab": {
          "base_uri": "https://localhost:8080/",
          "height": 295
        },
        "id": "ZiSW2BF5dhP5",
        "outputId": "0f55e980-aa40-4a8e-eccf-16a5ef4b0f3a"
      },
      "execution_count": 108,
      "outputs": [
        {
          "output_type": "display_data",
          "data": {
            "text/plain": [
              "<Figure size 432x288 with 1 Axes>"
            ],
            "image/png": "[encoded data removed]"
          },
          "metadata": {
            "needs_background": "light"
          }
        }
      ]
    },
    {
      "cell_type": "code",
      "source": [
        "test_v = policy_eval(test_policy, head_prob, r, gamma, threshold)"
      ],
      "metadata": {
        "id": "ml4cyYIbdv8A"
      },
      "execution_count": 106,
      "outputs": []
    },
    {
      "cell_type": "markdown",
      "source": [
        "The state-value function of these 3 different policies are pretty much the same, suggesting they are all optimal policies."
      ],
      "metadata": {
        "id": "wTuvEsWnJSuC"
      }
    },
    {
      "cell_type": "code",
      "source": [
        "np.max(np.abs(test_v-v_history_v[-1]))"
      ],
      "metadata": {
        "colab": {
          "base_uri": "https://localhost:8080/"
        },
        "id": "GUGoc4mreNRe",
        "outputId": "475f8346-cd98-477f-8383-3453597e6fda"
      },
      "execution_count": 120,
      "outputs": [
        {
          "output_type": "execute_result",
          "data": {
            "text/plain": [
              "1.1102230246251565e-16"
            ]
          },
          "metadata": {},
          "execution_count": 120
        }
      ]
    },
    {
      "cell_type": "code",
      "source": [
        "np.max(np.abs(test_v-v_history_p[-1]))"
      ],
      "metadata": {
        "colab": {
          "base_uri": "https://localhost:8080/"
        },
        "id": "mX8BEJwyIxX8",
        "outputId": "f2d0822d-5a8e-4835-c0a8-1e8ade5ba616"
      },
      "execution_count": 121,
      "outputs": [
        {
          "output_type": "execute_result",
          "data": {
            "text/plain": [
              "1.1102230246251565e-16"
            ]
          },
          "metadata": {},
          "execution_count": 121
        }
      ]
    }
  ]
}